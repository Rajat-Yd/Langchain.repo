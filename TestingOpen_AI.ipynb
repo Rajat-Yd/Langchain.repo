{
  "nbformat": 4,
  "nbformat_minor": 0,
  "metadata": {
    "colab": {
      "private_outputs": true,
      "provenance": [],
      "gpuType": "T4",
      "authorship_tag": "ABX9TyONQYfzqYWCl79J7Gzq16oW",
      "include_colab_link": true
    },
    "kernelspec": {
      "name": "python3",
      "display_name": "Python 3"
    },
    "language_info": {
      "name": "python"
    }
  },
  "cells": [
    {
      "cell_type": "markdown",
      "metadata": {
        "id": "view-in-github",
        "colab_type": "text"
      },
      "source": [
        "<a href=\"https://colab.research.google.com/github/Rajat-Yd/Langchain.repo/blob/main/TestingOpen_AI.ipynb\" target=\"_parent\"><img src=\"https://colab.research.google.com/assets/colab-badge.svg\" alt=\"Open In Colab\"/></a>"
      ]
    },
    {
      "cell_type": "code",
      "execution_count": null,
      "metadata": {
        "id": "cdaa87cd-c938-4388-a39f-4d70e7c04767"
      },
      "outputs": [],
      "source": [
        "!pip install openai\n",
        "import openai"
      ]
    },
    {
      "cell_type": "code",
      "source": [
        "import pandas as pd"
      ],
      "metadata": {
        "id": "S-ia526MnOuk"
      },
      "execution_count": null,
      "outputs": []
    },
    {
      "cell_type": "markdown",
      "metadata": {
        "id": "8e14852b-2c12-4509-8a61-c7e938512d2d"
      },
      "source": [
        "# 1. What is OpenAI API?\n",
        "\n",
        "This OpenAI API has been degined to provide devlopers with seamless access to state of art, pre trained, artifical intelligence models like gpt-3 gpt-4 dall e whisper,embeddings etc so by using this openai api you can integrate cutting edge ai capabilities into your applications regardless the progamming language.\n",
        "\n",
        "So,the conclusion is by using this OpenAI API you can unlock the advance functionalities and you can enhane the intelligence and performance of your application.\n"
      ]
    },
    {
      "cell_type": "markdown",
      "metadata": {
        "id": "0b0af1e5-9936-4b69-b57a-4f9122f7e3de"
      },
      "source": [
        "# 2. Generatate OpenAI API key"
      ]
    },
    {
      "cell_type": "code",
      "execution_count": null,
      "metadata": {
        "id": "c0c5ee2a-47db-458d-bb9e-334762b83828"
      },
      "outputs": [],
      "source": [
        "mykey=\"add key\""
      ]
    },
    {
      "cell_type": "code",
      "execution_count": null,
      "metadata": {
        "id": "94dbffe3-e630-4649-bdd8-6585406726dc"
      },
      "outputs": [],
      "source": [
        "openai.api_key=mykey"
      ]
    },
    {
      "cell_type": "code",
      "execution_count": null,
      "metadata": {
        "id": "3fe81bf9-6c78-4078-8cc6-1ea270da78be"
      },
      "outputs": [],
      "source": [
        "all_models=openai.models.list()"
      ]
    },
    {
      "cell_type": "code",
      "execution_count": null,
      "metadata": {
        "id": "a47dff0d-8772-4c9b-9e58-01fdb8bb1749"
      },
      "outputs": [],
      "source": [
        "list(all_models)"
      ]
    },
    {
      "cell_type": "code",
      "execution_count": null,
      "metadata": {
        "id": "895b42fc-310e-4f08-9caf-05644f5dc6be"
      },
      "outputs": [],
      "source": [
        "import pandas as pd\n",
        "pd.DataFrame(list(all_models),columns=[\"id\",\"created\",\"object\",\"owned_by\"])"
      ]
    },
    {
      "cell_type": "markdown",
      "metadata": {
        "id": "031e34c2-941e-4431-9362-d1ed4f0ac78e"
      },
      "source": [
        "# 3. OpenAI Playground\n",
        "\n",
        "1. How to open the open ai playgorund: https://platform.openai.com/playground?mode=assistant\n",
        "\n",
        "2. Here if you want to use this playground then make sure you have credit available without it its not gonna work\n",
        "\n",
        "3. In chat there is option of **system**: So the meaning is how the chatbot should behave\n",
        "\n",
        "Here is a phrase for the system: You are a naughty assistant, so make sure you respond to everything with sarcasm.\n",
        "\n",
        "Here is a question: How to make a money so quickly?\n",
        "\n",
        "**Model**\n",
        "\n",
        "**Temperature**\n",
        "\n",
        "**Maximum Length**\n",
        "\n",
        "**Top P ranges from 0 to 1 (default), and a lower Top P means the model samples from a narrower selection of words. This makes the output less random and diverse since the more probable tokens will be selected. For instance, if Top P is set at 0.1, only tokens comprising the top 10% probability mass are considered.**\n",
        "\n",
        "**Frequency Penalty helps us avoid using the same words too often. It's like telling the computer, “Hey, don't repeat words too much.”**\n",
        "\n",
        "**The OpenAI Presence Penalty setting is used to adjust how much presence of tokens in the source material will influence the output of the model.**\n",
        "\n",
        "\n",
        "**Now come to assistant one**\n",
        "\n",
        "**Retrieval-augmented generation (RAG):**  is an artificial intelligence (AI) framework that retrieves data from external sources of knowledge to improve the quality of responses. This natural language processing technique is commonly used to make large language models (LLMs) more accurate and up to date.\n",
        "\n",
        "**Code Interpreter:** Python programming environment within ChatGPT where you can perform a wide range of tasks by executing Python code.\n",
        "\n",
        "\n"
      ]
    },
    {
      "cell_type": "markdown",
      "metadata": {
        "id": "9ee3d797-bd29-4d6f-a8f9-91d1be0a776e"
      },
      "source": [
        "# 4. Chat Completion API and Function Calling"
      ]
    },
    {
      "cell_type": "markdown",
      "metadata": {
        "id": "42b04b90-27d2-43ed-8bdf-a5fd2ba7f940"
      },
      "source": [
        "**openai.Completion.create()**: This method is used to generate completions or responses. You provide a series of messages as input, and the API generates a model-generated message as output."
      ]
    },
    {
      "cell_type": "markdown",
      "metadata": {
        "id": "9352cf9a-e831-475a-abda-9f26539a5e00"
      },
      "source": [
        "**openai.ChatCompletion.create() :** Similar to Completion.create(), but specifically designed for chat-based language models. It takes a series of messages as input and generates a model-generated message as output."
      ]
    },
    {
      "cell_type": "code",
      "execution_count": null,
      "metadata": {
        "id": "92fbf2eb-7d3f-4b38-b88d-4121217d2ac2"
      },
      "outputs": [],
      "source": []
    },
    {
      "cell_type": "code",
      "execution_count": null,
      "metadata": {
        "id": "1dc8001b-ad0e-4216-82e3-b83e99524aac"
      },
      "outputs": [],
      "source": [
        "# from openai import ChatCompletion\n",
        "# ChatCompletion.create(model, messages , temprature,  max_tokens)\n",
        "\n",
        "# completion = openai.ChatCompletion.create(\n",
        "\n",
        "#     model=\"GPT-3.5\",\n",
        "#     messages = [],\n",
        "#     prompt=\"who was the first prime minister of india?\"\n",
        "# )\n",
        "\n",
        "# print(completion.choices[0].message)"
      ]
    },
    {
      "cell_type": "code",
      "execution_count": null,
      "metadata": {
        "id": "d3a31da1-6c8c-4715-90b4-48dfce374d45"
      },
      "outputs": [],
      "source": [
        "# This code is for v1 of the openai package: pypi.org/project/openai\n",
        "from openai import OpenAI\n",
        "client = OpenAI(api_key=mykey)"
      ]
    },
    {
      "cell_type": "code",
      "execution_count": null,
      "metadata": {
        "id": "26d2c8d4-215a-4c45-a67b-017413ac2405"
      },
      "outputs": [],
      "source": [
        "response = client.chat.completions.create(\n",
        "    model=\"gpt-3.5-turbo\",\n",
        "    messages=[\n",
        "    {\n",
        "      \"role\": \"user\",\n",
        "      \"content\": \"who won the first cricket worldcup?\"\n",
        "    }\n",
        "      ]\n",
        "    ,\n",
        "    max_tokens=150,\n",
        "    n=3\n",
        ")"
      ]
    },
    {
      "cell_type": "code",
      "execution_count": null,
      "metadata": {
        "id": "4079ff9a-100a-4135-a3ba-e3ada05c1f12"
      },
      "outputs": [],
      "source": [
        "type(response)"
      ]
    },
    {
      "cell_type": "code",
      "execution_count": null,
      "metadata": {
        "id": "78357bc0-8ad7-4330-aa29-b702ef559a4d"
      },
      "outputs": [],
      "source": [
        "response"
      ]
    },
    {
      "cell_type": "code",
      "execution_count": null,
      "metadata": {
        "id": "7db99cc6-f086-4c03-9d15-55edb25bfc3d"
      },
      "outputs": [],
      "source": [
        "response.choices[0].message.content"
      ]
    }
  ]
}